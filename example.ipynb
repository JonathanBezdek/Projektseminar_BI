{
 "cells": [
  {
   "cell_type": "markdown",
   "metadata": {},
   "source": [
    "erstes Beispiel um Funktionalität zu prüfen"
   ]
  },
  {
   "cell_type": "code",
   "execution_count": 1,
   "metadata": {},
   "outputs": [],
   "source": [
    "import os\n",
    "os.environ['ATOTI_HIDE_EULA_MESSAGE'] = 'True'\n",
    "\n",
    "import atoti as tt\n",
    "\n",
    "session = tt.Session()\n"
   ]
  },
  {
   "cell_type": "code",
   "execution_count": 2,
   "metadata": {},
   "outputs": [],
   "source": [
    "produkt_table = session.read_csv(\"data/Produkt.csv\", keys=[\"Produkt_ID\"])"
   ]
  },
  {
   "cell_type": "code",
   "execution_count": 5,
   "metadata": {},
   "outputs": [
    {
     "data": {
      "text/html": [
       "<div>\n",
       "<style scoped>\n",
       "    .dataframe tbody tr th:only-of-type {\n",
       "        vertical-align: middle;\n",
       "    }\n",
       "\n",
       "    .dataframe tbody tr th {\n",
       "        vertical-align: top;\n",
       "    }\n",
       "\n",
       "    .dataframe thead th {\n",
       "        text-align: right;\n",
       "    }\n",
       "</style>\n",
       "<table border=\"1\" class=\"dataframe\">\n",
       "  <thead>\n",
       "    <tr style=\"text-align: right;\">\n",
       "      <th></th>\n",
       "      <th>Markenname</th>\n",
       "      <th>Produktname</th>\n",
       "      <th>Preis</th>\n",
       "      <th>Subkategorie_ID</th>\n",
       "    </tr>\n",
       "    <tr>\n",
       "      <th>Produkt_ID</th>\n",
       "      <th></th>\n",
       "      <th></th>\n",
       "      <th></th>\n",
       "      <th></th>\n",
       "    </tr>\n",
       "  </thead>\n",
       "  <tbody>\n",
       "    <tr>\n",
       "      <th>1011</th>\n",
       "      <td>German</td>\n",
       "      <td>Wallnüsse</td>\n",
       "      <td>2.15</td>\n",
       "      <td>7</td>\n",
       "    </tr>\n",
       "    <tr>\n",
       "      <th>1110</th>\n",
       "      <td>Selfcooking</td>\n",
       "      <td>Räuchertofu</td>\n",
       "      <td>1.02</td>\n",
       "      <td>4</td>\n",
       "    </tr>\n",
       "    <tr>\n",
       "      <th>1209</th>\n",
       "      <td>Biomühle</td>\n",
       "      <td>engl. Muffins</td>\n",
       "      <td>1.42</td>\n",
       "      <td>9</td>\n",
       "    </tr>\n",
       "    <tr>\n",
       "      <th>1312</th>\n",
       "      <td>Carmens</td>\n",
       "      <td>Münster Käse</td>\n",
       "      <td>0.50</td>\n",
       "      <td>2</td>\n",
       "    </tr>\n",
       "    <tr>\n",
       "      <th>1406</th>\n",
       "      <td>Ich Darf</td>\n",
       "      <td>Äpfel</td>\n",
       "      <td>2.68</td>\n",
       "      <td>6</td>\n",
       "    </tr>\n",
       "    <tr>\n",
       "      <th>...</th>\n",
       "      <td>...</td>\n",
       "      <td>...</td>\n",
       "      <td>...</td>\n",
       "      <td>...</td>\n",
       "    </tr>\n",
       "    <tr>\n",
       "      <th>2105</th>\n",
       "      <td>Bergwiese</td>\n",
       "      <td>Sojamilch</td>\n",
       "      <td>0.54</td>\n",
       "      <td>8</td>\n",
       "    </tr>\n",
       "    <tr>\n",
       "      <th>2117</th>\n",
       "      <td>Bergwiese</td>\n",
       "      <td>Creme fraiche</td>\n",
       "      <td>2.26</td>\n",
       "      <td>11</td>\n",
       "    </tr>\n",
       "    <tr>\n",
       "      <th>2211</th>\n",
       "      <td>Biowelt</td>\n",
       "      <td>Mandelmilch</td>\n",
       "      <td>3.19</td>\n",
       "      <td>8</td>\n",
       "    </tr>\n",
       "    <tr>\n",
       "      <th>2305</th>\n",
       "      <td>Regionalvertrieb</td>\n",
       "      <td>Dinkeldrink</td>\n",
       "      <td>0.62</td>\n",
       "      <td>8</td>\n",
       "    </tr>\n",
       "    <tr>\n",
       "      <th>2317</th>\n",
       "      <td>Regionalvertrieb</td>\n",
       "      <td>Appenzeller</td>\n",
       "      <td>1.58</td>\n",
       "      <td>2</td>\n",
       "    </tr>\n",
       "  </tbody>\n",
       "</table>\n",
       "<p>200 rows × 4 columns</p>\n",
       "</div>"
      ],
      "text/plain": [
       "                  Markenname    Produktname  Preis  Subkategorie_ID\n",
       "Produkt_ID                                                         \n",
       "1011                  German      Wallnüsse   2.15                7\n",
       "1110             Selfcooking    Räuchertofu   1.02                4\n",
       "1209                Biomühle  engl. Muffins   1.42                9\n",
       "1312                 Carmens   Münster Käse   0.50                2\n",
       "1406                Ich Darf          Äpfel   2.68                6\n",
       "...                      ...            ...    ...              ...\n",
       "2105               Bergwiese      Sojamilch   0.54                8\n",
       "2117               Bergwiese  Creme fraiche   2.26               11\n",
       "2211                 Biowelt    Mandelmilch   3.19                8\n",
       "2305        Regionalvertrieb    Dinkeldrink   0.62                8\n",
       "2317        Regionalvertrieb    Appenzeller   1.58                2\n",
       "\n",
       "[200 rows x 4 columns]"
      ]
     },
     "execution_count": 5,
     "metadata": {},
     "output_type": "execute_result"
    }
   ],
   "source": [
    "produkt_table.head(200)"
   ]
  },
  {
   "cell_type": "code",
   "execution_count": 4,
   "metadata": {},
   "outputs": [],
   "source": [
    "cube = session.create_cube(produkt_table)"
   ]
  },
  {
   "cell_type": "code",
   "execution_count": 6,
   "metadata": {},
   "outputs": [
    {
     "data": {
      "application/json": {
       "Produkt": {
        "Markenname": [
         "Markenname"
        ],
        "Produkt_ID": [
         "Produkt_ID"
        ],
        "Produktname": [
         "Produktname"
        ]
       }
      },
      "text/html": [
       "<ul>\n",
       "<li>Dimensions\n",
       "  <ul>\n",
       "  <li>Produkt\n",
       "    <ul>\n",
       "    <li>Markenname\n",
       "      <ol>\n",
       "      <li>Markenname</li>\n",
       "      </ol>    </li>\n",
       "    <li>Produkt_ID\n",
       "      <ol>\n",
       "      <li>Produkt_ID</li>\n",
       "      </ol>    </li>\n",
       "    <li>Produktname\n",
       "      <ol>\n",
       "      <li>Produktname</li>\n",
       "      </ol>    </li>\n",
       "    </ul>\n",
       "  </li>\n",
       "  </ul>\n",
       "</li>\n",
       "</ul>\n"
      ],
      "text/plain": [
       "{('Produkt', 'Markenname'): <atoti.hierarchy.Hierarchy object at 0x0000012E1E78A610>, ('Produkt', 'Produkt_ID'): <atoti.hierarchy.Hierarchy object at 0x0000012E1E78AAC0>, ('Produkt', 'Produktname'): <atoti.hierarchy.Hierarchy object at 0x0000012E1E78AC10>}"
      ]
     },
     "execution_count": 6,
     "metadata": {
      "application/json": {
       "expanded": true,
       "root": "Dimensions"
      }
     },
     "output_type": "execute_result"
    }
   ],
   "source": [
    "h = cube.hierarchies\n",
    "h"
   ]
  },
  {
   "cell_type": "code",
   "execution_count": 7,
   "metadata": {},
   "outputs": [],
   "source": [
    "l = cube.levels"
   ]
  },
  {
   "cell_type": "code",
   "execution_count": 8,
   "metadata": {},
   "outputs": [
    {
     "data": {
      "application/json": {
       "Preis.MEAN": {
        "formatter": "DOUBLE[#,###.00]"
       },
       "Preis.SUM": {
        "formatter": "DOUBLE[#,###.00]"
       },
       "Subkategorie_ID.MEAN": {
        "formatter": "DOUBLE[#,###.00]"
       },
       "Subkategorie_ID.SUM": {
        "formatter": "INT[#,###]"
       },
       "contributors.COUNT": {
        "formatter": "INT[#,###]"
       }
      },
      "text/html": [
       "<ul>\n",
       "<li>Measures\n",
       "  <ul>\n",
       "  <li>Preis.MEAN\n",
       "    <ul>\n",
       "    <li>formatter: DOUBLE[#,###.00]</li>\n",
       "    </ul>\n",
       "  </li>\n",
       "  <li>Preis.SUM\n",
       "    <ul>\n",
       "    <li>formatter: DOUBLE[#,###.00]</li>\n",
       "    </ul>\n",
       "  </li>\n",
       "  <li>Subkategorie_ID.MEAN\n",
       "    <ul>\n",
       "    <li>formatter: DOUBLE[#,###.00]</li>\n",
       "    </ul>\n",
       "  </li>\n",
       "  <li>Subkategorie_ID.SUM\n",
       "    <ul>\n",
       "    <li>formatter: INT[#,###]</li>\n",
       "    </ul>\n",
       "  </li>\n",
       "  <li>contributors.COUNT\n",
       "    <ul>\n",
       "    <li>formatter: INT[#,###]</li>\n",
       "    </ul>\n",
       "  </li>\n",
       "  </ul>\n",
       "</li>\n",
       "</ul>\n"
      ],
      "text/plain": [
       "{'contributors.COUNT': <atoti.measure.Measure object at 0x0000012E05A0FBE0>, 'update.TIMESTAMP': <atoti.measure.Measure object at 0x0000012E05A0F850>, 'Subkategorie_ID.SUM': <atoti.measure.Measure object at 0x0000012E1E7837C0>, 'Subkategorie_ID.MEAN': <atoti.measure.Measure object at 0x0000012E1E783760>, 'Preis.SUM': <atoti.measure.Measure object at 0x0000012E1E783820>, 'Preis.MEAN': <atoti.measure.Measure object at 0x0000012E1E783850>}"
      ]
     },
     "execution_count": 8,
     "metadata": {
      "application/json": {
       "expanded": false,
       "root": "Measures"
      }
     },
     "output_type": "execute_result"
    }
   ],
   "source": [
    "m = cube.measures\n",
    "m"
   ]
  },
  {
   "cell_type": "code",
   "execution_count": 10,
   "metadata": {},
   "outputs": [
    {
     "data": {
      "text/html": [
       "<div>\n",
       "<style scoped>\n",
       "    .dataframe tbody tr th:only-of-type {\n",
       "        vertical-align: middle;\n",
       "    }\n",
       "\n",
       "    .dataframe tbody tr th {\n",
       "        vertical-align: top;\n",
       "    }\n",
       "\n",
       "    .dataframe thead th {\n",
       "        text-align: right;\n",
       "    }\n",
       "</style>\n",
       "<table border=\"1\" class=\"dataframe\">\n",
       "  <thead>\n",
       "    <tr style=\"text-align: right;\">\n",
       "      <th></th>\n",
       "      <th>Preis.SUM</th>\n",
       "    </tr>\n",
       "  </thead>\n",
       "  <tbody>\n",
       "    <tr>\n",
       "      <th>0</th>\n",
       "      <td>354.23</td>\n",
       "    </tr>\n",
       "  </tbody>\n",
       "</table>\n",
       "</div>"
      ],
      "text/plain": [
       "  Preis.SUM\n",
       "0    354.23"
      ]
     },
     "execution_count": 10,
     "metadata": {},
     "output_type": "execute_result"
    }
   ],
   "source": [
    "cube.query(m[\"Preis.SUM\"])"
   ]
  },
  {
   "cell_type": "code",
   "execution_count": 13,
   "metadata": {},
   "outputs": [
    {
     "data": {
      "text/html": [
       "<div>\n",
       "<style scoped>\n",
       "    .dataframe tbody tr th:only-of-type {\n",
       "        vertical-align: middle;\n",
       "    }\n",
       "\n",
       "    .dataframe tbody tr th {\n",
       "        vertical-align: top;\n",
       "    }\n",
       "\n",
       "    .dataframe thead th {\n",
       "        text-align: right;\n",
       "    }\n",
       "</style>\n",
       "<table border=\"1\" class=\"dataframe\">\n",
       "  <thead>\n",
       "    <tr style=\"text-align: right;\">\n",
       "      <th></th>\n",
       "      <th>Preis.SUM</th>\n",
       "    </tr>\n",
       "    <tr>\n",
       "      <th>Markenname</th>\n",
       "      <th></th>\n",
       "    </tr>\n",
       "  </thead>\n",
       "  <tbody>\n",
       "    <tr>\n",
       "      <th>Bergwiese</th>\n",
       "      <td>35.48</td>\n",
       "    </tr>\n",
       "    <tr>\n",
       "      <th>Biomühle</th>\n",
       "      <td>16.06</td>\n",
       "    </tr>\n",
       "    <tr>\n",
       "      <th>Bioweide</th>\n",
       "      <td>29.93</td>\n",
       "    </tr>\n",
       "    <tr>\n",
       "      <th>Biowelt</th>\n",
       "      <td>33.26</td>\n",
       "    </tr>\n",
       "    <tr>\n",
       "      <th>Black Toast</th>\n",
       "      <td>13.12</td>\n",
       "    </tr>\n",
       "    <tr>\n",
       "      <th>Carmens</th>\n",
       "      <td>28.97</td>\n",
       "    </tr>\n",
       "    <tr>\n",
       "      <th>Dresdner</th>\n",
       "      <td>24.17</td>\n",
       "    </tr>\n",
       "    <tr>\n",
       "      <th>Freiland</th>\n",
       "      <td>20.78</td>\n",
       "    </tr>\n",
       "    <tr>\n",
       "      <th>German</th>\n",
       "      <td>24.45</td>\n",
       "    </tr>\n",
       "    <tr>\n",
       "      <th>Ich Darf</th>\n",
       "      <td>21.23</td>\n",
       "    </tr>\n",
       "    <tr>\n",
       "      <th>Regiomühle</th>\n",
       "      <td>12.66</td>\n",
       "    </tr>\n",
       "    <tr>\n",
       "      <th>Regionalvertrieb</th>\n",
       "      <td>34.05</td>\n",
       "    </tr>\n",
       "    <tr>\n",
       "      <th>Sachsenmühle</th>\n",
       "      <td>15.07</td>\n",
       "    </tr>\n",
       "    <tr>\n",
       "      <th>Selfcooking</th>\n",
       "      <td>17.51</td>\n",
       "    </tr>\n",
       "    <tr>\n",
       "      <th>Veggieland</th>\n",
       "      <td>27.49</td>\n",
       "    </tr>\n",
       "  </tbody>\n",
       "</table>\n",
       "</div>"
      ],
      "text/plain": [
       "                 Preis.SUM\n",
       "Markenname                \n",
       "Bergwiese            35.48\n",
       "Biomühle             16.06\n",
       "Bioweide             29.93\n",
       "Biowelt              33.26\n",
       "Black Toast          13.12\n",
       "Carmens              28.97\n",
       "Dresdner             24.17\n",
       "Freiland             20.78\n",
       "German               24.45\n",
       "Ich Darf             21.23\n",
       "Regiomühle           12.66\n",
       "Regionalvertrieb     34.05\n",
       "Sachsenmühle         15.07\n",
       "Selfcooking          17.51\n",
       "Veggieland           27.49"
      ]
     },
     "execution_count": 13,
     "metadata": {},
     "output_type": "execute_result"
    }
   ],
   "source": [
    "cube.query(m[\"Preis.SUM\"], levels=[l[\"Markenname\"]])"
   ]
  },
  {
   "cell_type": "code",
   "execution_count": 20,
   "metadata": {},
   "outputs": [
    {
     "data": {
      "text/html": [
       "<div>\n",
       "<style scoped>\n",
       "    .dataframe tbody tr th:only-of-type {\n",
       "        vertical-align: middle;\n",
       "    }\n",
       "\n",
       "    .dataframe tbody tr th {\n",
       "        vertical-align: top;\n",
       "    }\n",
       "\n",
       "    .dataframe thead th {\n",
       "        text-align: right;\n",
       "    }\n",
       "</style>\n",
       "<table border=\"1\" class=\"dataframe\">\n",
       "  <thead>\n",
       "    <tr style=\"text-align: right;\">\n",
       "      <th></th>\n",
       "      <th></th>\n",
       "      <th>Preis.SUM</th>\n",
       "    </tr>\n",
       "    <tr>\n",
       "      <th>Markenname</th>\n",
       "      <th>Produktname</th>\n",
       "      <th></th>\n",
       "    </tr>\n",
       "  </thead>\n",
       "  <tbody>\n",
       "    <tr>\n",
       "      <th>Dresdner</th>\n",
       "      <th>Leinsamen</th>\n",
       "      <td>1.40</td>\n",
       "    </tr>\n",
       "    <tr>\n",
       "      <th>German</th>\n",
       "      <th>Leinsamen</th>\n",
       "      <td>2.45</td>\n",
       "    </tr>\n",
       "    <tr>\n",
       "      <th>Ich Darf</th>\n",
       "      <th>Leinsamen</th>\n",
       "      <td>1.46</td>\n",
       "    </tr>\n",
       "    <tr>\n",
       "      <th>Selfcooking</th>\n",
       "      <th>Leinsamen</th>\n",
       "      <td>1.14</td>\n",
       "    </tr>\n",
       "    <tr>\n",
       "      <th>Veggieland</th>\n",
       "      <th>Leinsamen</th>\n",
       "      <td>2.68</td>\n",
       "    </tr>\n",
       "  </tbody>\n",
       "</table>\n",
       "</div>"
      ],
      "text/plain": [
       "                        Preis.SUM\n",
       "Markenname  Produktname          \n",
       "Dresdner    Leinsamen        1.40\n",
       "German      Leinsamen        2.45\n",
       "Ich Darf    Leinsamen        1.46\n",
       "Selfcooking Leinsamen        1.14\n",
       "Veggieland  Leinsamen        2.68"
      ]
     },
     "execution_count": 20,
     "metadata": {},
     "output_type": "execute_result"
    }
   ],
   "source": [
    "cube.query(\n",
    "    m[\"Preis.SUM\"],\n",
    "    levels=[l[\"Markenname\"], l[\"Produktname\"]],\n",
    "    filter=l[\"Produktname\"] == \"Leinsamen\",\n",
    ")"
   ]
  },
  {
   "cell_type": "code",
   "execution_count": 21,
   "metadata": {},
   "outputs": [
    {
     "data": {
      "application/vnd.atoti.widget.v0+json": {
       "name": null,
       "sessionId": "1671316971_1HCU9A",
       "sessionLocation": {
        "https": false,
        "port": 55812
       },
       "widgetCreationCode": "session.visualize()"
      },
      "text/plain": [
       "Open the notebook in JupyterLab with the atoti extension enabled to build this widget."
      ]
     },
     "metadata": {},
     "output_type": "display_data"
    }
   ],
   "source": [
    "session.visualize()"
   ]
  }
 ],
 "metadata": {
  "kernelspec": {
   "display_name": "Python 3",
   "language": "python",
   "name": "python3"
  },
  "language_info": {
   "codemirror_mode": {
    "name": "ipython",
    "version": 3
   },
   "file_extension": ".py",
   "mimetype": "text/x-python",
   "name": "python",
   "nbconvert_exporter": "python",
   "pygments_lexer": "ipython3",
   "version": "3.8.10"
  },
  "vscode": {
   "interpreter": {
    "hash": "4e09accb840a14b2888254c7da1f5e57bd8f87b65578d063d5aa0ea258ae0aca"
   }
  }
 },
 "nbformat": 4,
 "nbformat_minor": 4
}
