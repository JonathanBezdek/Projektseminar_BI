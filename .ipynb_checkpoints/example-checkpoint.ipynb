{
 "cells": [
  {
   "cell_type": "markdown",
   "metadata": {},
   "source": [
    "erstes Beispiel um Funktionalität zu prüfen"
   ]
  },
  {
   "cell_type": "code",
   "execution_count": 1,
   "metadata": {},
   "outputs": [],
   "source": [
    "import os\n",
    "os.environ['ATOTI_HIDE_EULA_MESSAGE'] = 'True'\n",
    "\n",
    "import atoti as tt\n",
    "\n",
    "session = tt.Session()\n"
   ]
  },
  {
   "cell_type": "code",
   "execution_count": null,
   "metadata": {},
   "outputs": [],
   "source": [
    "produkt_table = session.read_csv(\"data/Produkt.csv\", keys=[\"Produkt_ID\"])"
   ]
  },
  {
   "cell_type": "code",
   "execution_count": 5,
   "metadata": {},
   "outputs": [
    {
     "data": {
      "text/html": [
       "<div>\n",
       "<style scoped>\n",
       "    .dataframe tbody tr th:only-of-type {\n",
       "        vertical-align: middle;\n",
       "    }\n",
       "\n",
       "    .dataframe tbody tr th {\n",
       "        vertical-align: top;\n",
       "    }\n",
       "\n",
       "    .dataframe thead th {\n",
       "        text-align: right;\n",
       "    }\n",
       "</style>\n",
       "<table border=\"1\" class=\"dataframe\">\n",
       "  <thead>\n",
       "    <tr style=\"text-align: right;\">\n",
       "      <th></th>\n",
       "      <th>Markenname</th>\n",
       "      <th>Produktname</th>\n",
       "      <th>Preis</th>\n",
       "      <th>Subkategorie_ID</th>\n",
       "    </tr>\n",
       "    <tr>\n",
       "      <th>Produkt_ID</th>\n",
       "      <th></th>\n",
       "      <th></th>\n",
       "      <th></th>\n",
       "      <th></th>\n",
       "    </tr>\n",
       "  </thead>\n",
       "  <tbody>\n",
       "    <tr>\n",
       "      <th>1011</th>\n",
       "      <td>German</td>\n",
       "      <td>Wallnüsse</td>\n",
       "      <td>2.15</td>\n",
       "      <td>7</td>\n",
       "    </tr>\n",
       "    <tr>\n",
       "      <th>1110</th>\n",
       "      <td>Selfcooking</td>\n",
       "      <td>Räuchertofu</td>\n",
       "      <td>1.02</td>\n",
       "      <td>4</td>\n",
       "    </tr>\n",
       "    <tr>\n",
       "      <th>1209</th>\n",
       "      <td>Biomühle</td>\n",
       "      <td>engl. Muffins</td>\n",
       "      <td>1.42</td>\n",
       "      <td>9</td>\n",
       "    </tr>\n",
       "    <tr>\n",
       "      <th>1312</th>\n",
       "      <td>Carmens</td>\n",
       "      <td>Münster Käse</td>\n",
       "      <td>0.50</td>\n",
       "      <td>2</td>\n",
       "    </tr>\n",
       "    <tr>\n",
       "      <th>1406</th>\n",
       "      <td>Ich Darf</td>\n",
       "      <td>Äpfel</td>\n",
       "      <td>2.68</td>\n",
       "      <td>6</td>\n",
       "    </tr>\n",
       "  </tbody>\n",
       "</table>\n",
       "</div>"
      ],
      "text/plain": [
       "             Markenname    Produktname  Preis  Subkategorie_ID\n",
       "Produkt_ID                                                    \n",
       "1011             German      Wallnüsse   2.15                7\n",
       "1110        Selfcooking    Räuchertofu   1.02                4\n",
       "1209           Biomühle  engl. Muffins   1.42                9\n",
       "1312            Carmens   Münster Käse   0.50                2\n",
       "1406           Ich Darf          Äpfel   2.68                6"
      ]
     },
     "execution_count": 5,
     "metadata": {},
     "output_type": "execute_result"
    }
   ],
   "source": [
    "produkt_table.head()"
   ]
  },
  {
   "cell_type": "code",
   "execution_count": 6,
   "metadata": {},
   "outputs": [],
   "source": [
    "cube = session.create_cube(produkt_table)"
   ]
  }
 ],
 "metadata": {
  "kernelspec": {
   "display_name": "Python 3",
   "language": "python",
   "name": "python3"
  },
  "language_info": {
   "codemirror_mode": {
    "name": "ipython",
    "version": 3
   },
   "file_extension": ".py",
   "mimetype": "text/x-python",
   "name": "python",
   "nbconvert_exporter": "python",
   "pygments_lexer": "ipython3",
   "version": "3.8.10"
  },
  "vscode": {
   "interpreter": {
    "hash": "4e09accb840a14b2888254c7da1f5e57bd8f87b65578d063d5aa0ea258ae0aca"
   }
  }
 },
 "nbformat": 4,
 "nbformat_minor": 4
}
